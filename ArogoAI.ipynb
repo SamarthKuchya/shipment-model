{
 "cells": [
  {
   "cell_type": "markdown",
   "id": "14317b41",
   "metadata": {},
   "source": [
    "# Importing Required Libraries "
   ]
  },
  {
   "cell_type": "code",
   "execution_count": 1,
   "id": "6b9f61fb",
   "metadata": {},
   "outputs": [],
   "source": [
    "import warnings\n",
    "warnings.filterwarnings('ignore')\n",
    "import pandas as pd\n",
    "from sklearn.preprocessing import LabelEncoder\n",
    "from sklearn.linear_model import LogisticRegression\n",
    "import numpy as np\n",
    "import matplotlib.pyplot as plt\n",
    "import seaborn as sns\n",
    "from sklearn.metrics import accuracy_score, classification_report, confusion_matrix\n",
    "from sklearn.tree import DecisionTreeClassifier, DecisionTreeRegressor\n",
    "from sklearn.neighbors import KNeighborsClassifier"
   ]
  },
  {
   "cell_type": "markdown",
   "id": "3b0ab8b2",
   "metadata": {},
   "source": [
    "# Reading Data"
   ]
  },
  {
   "cell_type": "code",
   "execution_count": 2,
   "id": "43d87471",
   "metadata": {},
   "outputs": [],
   "source": [
    "data=pd.read_csv('AI ML Internship Training Data.xlsx - freight_delivery_realistic_data.csv')"
   ]
  },
  {
   "cell_type": "code",
   "execution_count": 3,
   "id": "332384ef",
   "metadata": {},
   "outputs": [
    {
     "data": {
      "text/html": [
       "<div>\n",
       "<style scoped>\n",
       "    .dataframe tbody tr th:only-of-type {\n",
       "        vertical-align: middle;\n",
       "    }\n",
       "\n",
       "    .dataframe tbody tr th {\n",
       "        vertical-align: top;\n",
       "    }\n",
       "\n",
       "    .dataframe thead th {\n",
       "        text-align: right;\n",
       "    }\n",
       "</style>\n",
       "<table border=\"1\" class=\"dataframe\">\n",
       "  <thead>\n",
       "    <tr style=\"text-align: right;\">\n",
       "      <th></th>\n",
       "      <th>Shipment ID</th>\n",
       "      <th>Origin</th>\n",
       "      <th>Destination</th>\n",
       "      <th>Shipment Date</th>\n",
       "      <th>Planned Delivery Date</th>\n",
       "      <th>Actual Delivery Date</th>\n",
       "      <th>Vehicle Type</th>\n",
       "      <th>Distance (km)</th>\n",
       "      <th>Weather Conditions</th>\n",
       "      <th>Traffic Conditions</th>\n",
       "      <th>Delayed</th>\n",
       "    </tr>\n",
       "  </thead>\n",
       "  <tbody>\n",
       "    <tr>\n",
       "      <th>0</th>\n",
       "      <td>SHIP000000</td>\n",
       "      <td>Jaipur</td>\n",
       "      <td>Mumbai</td>\n",
       "      <td>2023-04-26</td>\n",
       "      <td>2023-05-01</td>\n",
       "      <td>2023-05-02</td>\n",
       "      <td>Trailer</td>\n",
       "      <td>1603</td>\n",
       "      <td>Rain</td>\n",
       "      <td>Light</td>\n",
       "      <td>Yes</td>\n",
       "    </tr>\n",
       "    <tr>\n",
       "      <th>1</th>\n",
       "      <td>SHIP000001</td>\n",
       "      <td>Bangalore</td>\n",
       "      <td>Delhi</td>\n",
       "      <td>2023-02-09</td>\n",
       "      <td>2023-02-13</td>\n",
       "      <td>2023-02-17</td>\n",
       "      <td>Trailer</td>\n",
       "      <td>1237</td>\n",
       "      <td>Storm</td>\n",
       "      <td>Moderate</td>\n",
       "      <td>Yes</td>\n",
       "    </tr>\n",
       "    <tr>\n",
       "      <th>2</th>\n",
       "      <td>SHIP000002</td>\n",
       "      <td>Mumbai</td>\n",
       "      <td>Chennai</td>\n",
       "      <td>2023-09-19</td>\n",
       "      <td>2023-09-25</td>\n",
       "      <td>2023-09-25</td>\n",
       "      <td>Truck</td>\n",
       "      <td>1863</td>\n",
       "      <td>Clear</td>\n",
       "      <td>Light</td>\n",
       "      <td>No</td>\n",
       "    </tr>\n",
       "    <tr>\n",
       "      <th>3</th>\n",
       "      <td>SHIP000003</td>\n",
       "      <td>Hyderabad</td>\n",
       "      <td>Ahmedabad</td>\n",
       "      <td>2023-04-01</td>\n",
       "      <td>2023-04-05</td>\n",
       "      <td>2023-04-05</td>\n",
       "      <td>Container</td>\n",
       "      <td>1374</td>\n",
       "      <td>Clear</td>\n",
       "      <td>Light</td>\n",
       "      <td>No</td>\n",
       "    </tr>\n",
       "    <tr>\n",
       "      <th>4</th>\n",
       "      <td>SHIP000004</td>\n",
       "      <td>Chennai</td>\n",
       "      <td>Kolkata</td>\n",
       "      <td>2023-11-24</td>\n",
       "      <td>2023-11-26</td>\n",
       "      <td>2023-11-28</td>\n",
       "      <td>Container</td>\n",
       "      <td>676</td>\n",
       "      <td>Clear</td>\n",
       "      <td>Heavy</td>\n",
       "      <td>Yes</td>\n",
       "    </tr>\n",
       "    <tr>\n",
       "      <th>...</th>\n",
       "      <td>...</td>\n",
       "      <td>...</td>\n",
       "      <td>...</td>\n",
       "      <td>...</td>\n",
       "      <td>...</td>\n",
       "      <td>...</td>\n",
       "      <td>...</td>\n",
       "      <td>...</td>\n",
       "      <td>...</td>\n",
       "      <td>...</td>\n",
       "      <td>...</td>\n",
       "    </tr>\n",
       "    <tr>\n",
       "      <th>19995</th>\n",
       "      <td>SHIP019995</td>\n",
       "      <td>Chennai</td>\n",
       "      <td>Bangalore</td>\n",
       "      <td>2023-06-22</td>\n",
       "      <td>2023-06-23</td>\n",
       "      <td>2023-06-26</td>\n",
       "      <td>Truck</td>\n",
       "      <td>564</td>\n",
       "      <td>Fog</td>\n",
       "      <td>Moderate</td>\n",
       "      <td>Yes</td>\n",
       "    </tr>\n",
       "    <tr>\n",
       "      <th>19996</th>\n",
       "      <td>SHIP019996</td>\n",
       "      <td>Hyderabad</td>\n",
       "      <td>Jaipur</td>\n",
       "      <td>2023-03-02</td>\n",
       "      <td>2023-03-03</td>\n",
       "      <td>2023-03-07</td>\n",
       "      <td>Truck</td>\n",
       "      <td>305</td>\n",
       "      <td>Storm</td>\n",
       "      <td>Moderate</td>\n",
       "      <td>Yes</td>\n",
       "    </tr>\n",
       "    <tr>\n",
       "      <th>19997</th>\n",
       "      <td>SHIP019997</td>\n",
       "      <td>Hyderabad</td>\n",
       "      <td>Mumbai</td>\n",
       "      <td>2023-05-24</td>\n",
       "      <td>2023-05-27</td>\n",
       "      <td>2023-06-02</td>\n",
       "      <td>Trailer</td>\n",
       "      <td>1028</td>\n",
       "      <td>Rain</td>\n",
       "      <td>Moderate</td>\n",
       "      <td>Yes</td>\n",
       "    </tr>\n",
       "    <tr>\n",
       "      <th>19998</th>\n",
       "      <td>SHIP019998</td>\n",
       "      <td>Ahmedabad</td>\n",
       "      <td>Chennai</td>\n",
       "      <td>2023-05-02</td>\n",
       "      <td>2023-05-05</td>\n",
       "      <td>2023-05-08</td>\n",
       "      <td>Lorry</td>\n",
       "      <td>905</td>\n",
       "      <td>Fog</td>\n",
       "      <td>Moderate</td>\n",
       "      <td>Yes</td>\n",
       "    </tr>\n",
       "    <tr>\n",
       "      <th>19999</th>\n",
       "      <td>SHIP019999</td>\n",
       "      <td>Jaipur</td>\n",
       "      <td>Pune</td>\n",
       "      <td>2024-02-26</td>\n",
       "      <td>2024-02-27</td>\n",
       "      <td>2024-02-27</td>\n",
       "      <td>Lorry</td>\n",
       "      <td>584</td>\n",
       "      <td>Clear</td>\n",
       "      <td>Light</td>\n",
       "      <td>No</td>\n",
       "    </tr>\n",
       "  </tbody>\n",
       "</table>\n",
       "<p>20000 rows × 11 columns</p>\n",
       "</div>"
      ],
      "text/plain": [
       "      Shipment ID     Origin Destination Shipment Date Planned Delivery Date  \\\n",
       "0      SHIP000000     Jaipur      Mumbai    2023-04-26            2023-05-01   \n",
       "1      SHIP000001  Bangalore       Delhi    2023-02-09            2023-02-13   \n",
       "2      SHIP000002     Mumbai     Chennai    2023-09-19            2023-09-25   \n",
       "3      SHIP000003  Hyderabad   Ahmedabad    2023-04-01            2023-04-05   \n",
       "4      SHIP000004    Chennai     Kolkata    2023-11-24            2023-11-26   \n",
       "...           ...        ...         ...           ...                   ...   \n",
       "19995  SHIP019995    Chennai   Bangalore    2023-06-22            2023-06-23   \n",
       "19996  SHIP019996  Hyderabad      Jaipur    2023-03-02            2023-03-03   \n",
       "19997  SHIP019997  Hyderabad      Mumbai    2023-05-24            2023-05-27   \n",
       "19998  SHIP019998  Ahmedabad     Chennai    2023-05-02            2023-05-05   \n",
       "19999  SHIP019999     Jaipur        Pune    2024-02-26            2024-02-27   \n",
       "\n",
       "      Actual Delivery Date Vehicle Type  Distance (km) Weather Conditions  \\\n",
       "0               2023-05-02      Trailer           1603               Rain   \n",
       "1               2023-02-17      Trailer           1237              Storm   \n",
       "2               2023-09-25        Truck           1863              Clear   \n",
       "3               2023-04-05    Container           1374              Clear   \n",
       "4               2023-11-28    Container            676              Clear   \n",
       "...                    ...          ...            ...                ...   \n",
       "19995           2023-06-26        Truck            564                Fog   \n",
       "19996           2023-03-07        Truck            305              Storm   \n",
       "19997           2023-06-02      Trailer           1028               Rain   \n",
       "19998           2023-05-08        Lorry            905                Fog   \n",
       "19999           2024-02-27        Lorry            584              Clear   \n",
       "\n",
       "      Traffic Conditions Delayed  \n",
       "0                  Light     Yes  \n",
       "1               Moderate     Yes  \n",
       "2                  Light      No  \n",
       "3                  Light      No  \n",
       "4                  Heavy     Yes  \n",
       "...                  ...     ...  \n",
       "19995           Moderate     Yes  \n",
       "19996           Moderate     Yes  \n",
       "19997           Moderate     Yes  \n",
       "19998           Moderate     Yes  \n",
       "19999              Light      No  \n",
       "\n",
       "[20000 rows x 11 columns]"
      ]
     },
     "execution_count": 3,
     "metadata": {},
     "output_type": "execute_result"
    }
   ],
   "source": [
    "data"
   ]
  },
  {
   "cell_type": "markdown",
   "id": "3db858da",
   "metadata": {},
   "source": [
    "# Checking For Null Values"
   ]
  },
  {
   "cell_type": "code",
   "execution_count": 4,
   "id": "e062425c",
   "metadata": {},
   "outputs": [
    {
     "data": {
      "text/plain": [
       "count     20000\n",
       "unique        2\n",
       "top         Yes\n",
       "freq      14757\n",
       "Name: Delayed, dtype: object"
      ]
     },
     "execution_count": 4,
     "metadata": {},
     "output_type": "execute_result"
    }
   ],
   "source": [
    "data['Delayed'].describe()"
   ]
  },
  {
   "cell_type": "code",
   "execution_count": 5,
   "id": "8368b03d",
   "metadata": {},
   "outputs": [
    {
     "data": {
      "text/plain": [
       "Shipment ID                0\n",
       "Origin                     0\n",
       "Destination                0\n",
       "Shipment Date              0\n",
       "Planned Delivery Date      0\n",
       "Actual Delivery Date       0\n",
       "Vehicle Type             597\n",
       "Distance (km)              0\n",
       "Weather Conditions         0\n",
       "Traffic Conditions         0\n",
       "Delayed                    0\n",
       "dtype: int64"
      ]
     },
     "execution_count": 5,
     "metadata": {},
     "output_type": "execute_result"
    }
   ],
   "source": [
    "data.isnull().sum()"
   ]
  },
  {
   "cell_type": "markdown",
   "id": "1e5ed43c",
   "metadata": {},
   "source": [
    "# Dropping Null Values Since Vehicle Type Cannot Be Recreated"
   ]
  },
  {
   "cell_type": "code",
   "execution_count": 6,
   "id": "c21a8be8",
   "metadata": {},
   "outputs": [],
   "source": [
    "data=data.dropna()"
   ]
  },
  {
   "cell_type": "markdown",
   "id": "e9917d5b",
   "metadata": {},
   "source": [
    "# EDA "
   ]
  },
  {
   "cell_type": "code",
   "execution_count": 7,
   "id": "b06ba017",
   "metadata": {},
   "outputs": [
    {
     "name": "stdout",
     "output_type": "stream",
     "text": [
      "['Jaipur' 'Bangalore' 'Mumbai' 'Hyderabad' 'Chennai' 'Kolkata' 'Lucknow'\n",
      " 'Delhi' 'Ahmedabad' 'Pune']\n",
      "['Mumbai' 'Delhi' 'Chennai' 'Ahmedabad' 'Kolkata' 'Lucknow' 'Bangalore'\n",
      " 'Pune' 'Jaipur' 'Hyderabad']\n",
      "['Trailer' 'Truck' 'Container' 'Lorry']\n",
      "['Rain' 'Storm' 'Clear' 'Fog']\n",
      "['Light' 'Moderate' 'Heavy']\n"
     ]
    }
   ],
   "source": [
    "print(data.Origin.unique())\n",
    "print(data.Destination.unique())\n",
    "print(data['Vehicle Type'].unique())\n",
    "print(data['Weather Conditions'].unique())\n",
    "print(data['Traffic Conditions'].unique())"
   ]
  },
  {
   "cell_type": "code",
   "execution_count": 8,
   "id": "46798d60",
   "metadata": {},
   "outputs": [
    {
     "data": {
      "image/png": "[encoded data removed]",
      "text/plain": [
       "<Figure size 1200x600 with 1 Axes>"
      ]
     },
     "metadata": {},
     "output_type": "display_data"
    }
   ],
   "source": [
    "plt.figure(figsize=(12, 6))\n",
    "sns.countplot(data=data, x='Origin', hue='Delayed')\n",
    "\n",
    "plt.xlabel('Origin', fontsize=12)\n",
    "plt.ylabel('Count', fontsize=12)\n",
    "plt.title('Count of Delays by Origin', fontsize=14)\n",
    "plt.xticks(rotation=45)\n",
    "\n",
    "\n",
    "plt.show()"
   ]
  },
  {
   "cell_type": "code",
   "execution_count": 9,
   "id": "fda88de2",
   "metadata": {},
   "outputs": [
    {
     "data": {
      "image/png": "[encoded data removed]",
      "text/plain": [
       "<Figure size 1200x600 with 1 Axes>"
      ]
     },
     "metadata": {},
     "output_type": "display_data"
    }
   ],
   "source": [
    "plt.figure(figsize=(12, 6))\n",
    "sns.countplot(data=data, x='Destination', hue='Delayed')\n",
    "\n",
    "plt.xlabel('Destination', fontsize=12)\n",
    "plt.ylabel('Count', fontsize=12)\n",
    "plt.title('Count of Delays by Destination', fontsize=14)\n",
    "plt.xticks(rotation=45)\n",
    "\n",
    "\n",
    "plt.show()"
   ]
  },
  {
   "cell_type": "code",
   "execution_count": 10,
   "id": "c787dff3",
   "metadata": {},
   "outputs": [
    {
     "data": {
      "image/png": "[encoded data removed]",
      "text/plain": [
       "<Figure size 1200x600 with 1 Axes>"
      ]
     },
     "metadata": {},
     "output_type": "display_data"
    }
   ],
   "source": [
    "plt.figure(figsize=(12, 6))\n",
    "sns.countplot(data=data, x='Vehicle Type', hue='Delayed')\n",
    "\n",
    "plt.xlabel('Vehicle Type', fontsize=12)\n",
    "plt.ylabel('Count', fontsize=12)\n",
    "plt.title('Count of Delays by Vehicle Type', fontsize=14)\n",
    "plt.xticks(rotation=45)\n",
    "\n",
    "\n",
    "plt.show()"
   ]
  },
  {
   "cell_type": "code",
   "execution_count": 11,
   "id": "1f9ca3f3",
   "metadata": {},
   "outputs": [
    {
     "data": {
      "image/png": "[encoded data removed]",
      "text/plain": [
       "<Figure size 1200x600 with 1 Axes>"
      ]
     },
     "metadata": {},
     "output_type": "display_data"
    }
   ],
   "source": [
    "plt.figure(figsize=(12, 6))\n",
    "sns.countplot(data=data, x='Weather Conditions', hue='Delayed')\n",
    "\n",
    "plt.xlabel('Weather Conditions', fontsize=12)\n",
    "plt.ylabel('Count', fontsize=12)\n",
    "plt.title('Count of Delays by Weather Conditions', fontsize=14)\n",
    "plt.xticks(rotation=45)\n",
    "\n",
    "\n",
    "plt.show()"
   ]
  },
  {
   "cell_type": "code",
   "execution_count": 12,
   "id": "58f69605",
   "metadata": {},
   "outputs": [
    {
     "data": {
      "image/png": "[encoded data removed]",
      "text/plain": [
       "<Figure size 1200x600 with 1 Axes>"
      ]
     },
     "metadata": {},
     "output_type": "display_data"
    }
   ],
   "source": [
    "plt.figure(figsize=(12, 6))\n",
    "sns.countplot(data=data, x='Traffic Conditions', hue='Delayed')\n",
    "\n",
    "plt.xlabel('Traffic Conditions', fontsize=12)\n",
    "plt.ylabel('Count', fontsize=12)\n",
    "plt.title('Count of Delays by Traffic Conditions', fontsize=14)\n",
    "plt.xticks(rotation=45)\n",
    "\n",
    "\n",
    "plt.show()"
   ]
  },
  {
   "cell_type": "markdown",
   "id": "26d37e6c",
   "metadata": {},
   "source": [
    "### got the key point it always gets delayed except during clear weather and in light traffic we need to check it"
   ]
  },
  {
   "cell_type": "markdown",
   "id": "ebde3631",
   "metadata": {},
   "source": [
    "# Removing Irrelevant Columns"
   ]
  },
  {
   "cell_type": "code",
   "execution_count": 13,
   "id": "877574e0",
   "metadata": {},
   "outputs": [],
   "source": [
    "data=data.drop(['Shipment ID','Planned Delivery Date','Actual Delivery Date','Shipment Date'],axis=1)"
   ]
  },
  {
   "cell_type": "code",
   "execution_count": 14,
   "id": "f328f7be",
   "metadata": {},
   "outputs": [
    {
     "data": {
      "text/html": [
       "<div>\n",
       "<style scoped>\n",
       "    .dataframe tbody tr th:only-of-type {\n",
       "        vertical-align: middle;\n",
       "    }\n",
       "\n",
       "    .dataframe tbody tr th {\n",
       "        vertical-align: top;\n",
       "    }\n",
       "\n",
       "    .dataframe thead th {\n",
       "        text-align: right;\n",
       "    }\n",
       "</style>\n",
       "<table border=\"1\" class=\"dataframe\">\n",
       "  <thead>\n",
       "    <tr style=\"text-align: right;\">\n",
       "      <th></th>\n",
       "      <th>Origin</th>\n",
       "      <th>Destination</th>\n",
       "      <th>Vehicle Type</th>\n",
       "      <th>Distance (km)</th>\n",
       "      <th>Weather Conditions</th>\n",
       "      <th>Traffic Conditions</th>\n",
       "      <th>Delayed</th>\n",
       "    </tr>\n",
       "  </thead>\n",
       "  <tbody>\n",
       "    <tr>\n",
       "      <th>0</th>\n",
       "      <td>Jaipur</td>\n",
       "      <td>Mumbai</td>\n",
       "      <td>Trailer</td>\n",
       "      <td>1603</td>\n",
       "      <td>Rain</td>\n",
       "      <td>Light</td>\n",
       "      <td>Yes</td>\n",
       "    </tr>\n",
       "    <tr>\n",
       "      <th>1</th>\n",
       "      <td>Bangalore</td>\n",
       "      <td>Delhi</td>\n",
       "      <td>Trailer</td>\n",
       "      <td>1237</td>\n",
       "      <td>Storm</td>\n",
       "      <td>Moderate</td>\n",
       "      <td>Yes</td>\n",
       "    </tr>\n",
       "    <tr>\n",
       "      <th>2</th>\n",
       "      <td>Mumbai</td>\n",
       "      <td>Chennai</td>\n",
       "      <td>Truck</td>\n",
       "      <td>1863</td>\n",
       "      <td>Clear</td>\n",
       "      <td>Light</td>\n",
       "      <td>No</td>\n",
       "    </tr>\n",
       "    <tr>\n",
       "      <th>3</th>\n",
       "      <td>Hyderabad</td>\n",
       "      <td>Ahmedabad</td>\n",
       "      <td>Container</td>\n",
       "      <td>1374</td>\n",
       "      <td>Clear</td>\n",
       "      <td>Light</td>\n",
       "      <td>No</td>\n",
       "    </tr>\n",
       "    <tr>\n",
       "      <th>4</th>\n",
       "      <td>Chennai</td>\n",
       "      <td>Kolkata</td>\n",
       "      <td>Container</td>\n",
       "      <td>676</td>\n",
       "      <td>Clear</td>\n",
       "      <td>Heavy</td>\n",
       "      <td>Yes</td>\n",
       "    </tr>\n",
       "    <tr>\n",
       "      <th>...</th>\n",
       "      <td>...</td>\n",
       "      <td>...</td>\n",
       "      <td>...</td>\n",
       "      <td>...</td>\n",
       "      <td>...</td>\n",
       "      <td>...</td>\n",
       "      <td>...</td>\n",
       "    </tr>\n",
       "    <tr>\n",
       "      <th>19995</th>\n",
       "      <td>Chennai</td>\n",
       "      <td>Bangalore</td>\n",
       "      <td>Truck</td>\n",
       "      <td>564</td>\n",
       "      <td>Fog</td>\n",
       "      <td>Moderate</td>\n",
       "      <td>Yes</td>\n",
       "    </tr>\n",
       "    <tr>\n",
       "      <th>19996</th>\n",
       "      <td>Hyderabad</td>\n",
       "      <td>Jaipur</td>\n",
       "      <td>Truck</td>\n",
       "      <td>305</td>\n",
       "      <td>Storm</td>\n",
       "      <td>Moderate</td>\n",
       "      <td>Yes</td>\n",
       "    </tr>\n",
       "    <tr>\n",
       "      <th>19997</th>\n",
       "      <td>Hyderabad</td>\n",
       "      <td>Mumbai</td>\n",
       "      <td>Trailer</td>\n",
       "      <td>1028</td>\n",
       "      <td>Rain</td>\n",
       "      <td>Moderate</td>\n",
       "      <td>Yes</td>\n",
       "    </tr>\n",
       "    <tr>\n",
       "      <th>19998</th>\n",
       "      <td>Ahmedabad</td>\n",
       "      <td>Chennai</td>\n",
       "      <td>Lorry</td>\n",
       "      <td>905</td>\n",
       "      <td>Fog</td>\n",
       "      <td>Moderate</td>\n",
       "      <td>Yes</td>\n",
       "    </tr>\n",
       "    <tr>\n",
       "      <th>19999</th>\n",
       "      <td>Jaipur</td>\n",
       "      <td>Pune</td>\n",
       "      <td>Lorry</td>\n",
       "      <td>584</td>\n",
       "      <td>Clear</td>\n",
       "      <td>Light</td>\n",
       "      <td>No</td>\n",
       "    </tr>\n",
       "  </tbody>\n",
       "</table>\n",
       "<p>19403 rows × 7 columns</p>\n",
       "</div>"
      ],
      "text/plain": [
       "          Origin Destination Vehicle Type  Distance (km) Weather Conditions  \\\n",
       "0         Jaipur      Mumbai      Trailer           1603               Rain   \n",
       "1      Bangalore       Delhi      Trailer           1237              Storm   \n",
       "2         Mumbai     Chennai        Truck           1863              Clear   \n",
       "3      Hyderabad   Ahmedabad    Container           1374              Clear   \n",
       "4        Chennai     Kolkata    Container            676              Clear   \n",
       "...          ...         ...          ...            ...                ...   \n",
       "19995    Chennai   Bangalore        Truck            564                Fog   \n",
       "19996  Hyderabad      Jaipur        Truck            305              Storm   \n",
       "19997  Hyderabad      Mumbai      Trailer           1028               Rain   \n",
       "19998  Ahmedabad     Chennai        Lorry            905                Fog   \n",
       "19999     Jaipur        Pune        Lorry            584              Clear   \n",
       "\n",
       "      Traffic Conditions Delayed  \n",
       "0                  Light     Yes  \n",
       "1               Moderate     Yes  \n",
       "2                  Light      No  \n",
       "3                  Light      No  \n",
       "4                  Heavy     Yes  \n",
       "...                  ...     ...  \n",
       "19995           Moderate     Yes  \n",
       "19996           Moderate     Yes  \n",
       "19997           Moderate     Yes  \n",
       "19998           Moderate     Yes  \n",
       "19999              Light      No  \n",
       "\n",
       "[19403 rows x 7 columns]"
      ]
     },
     "execution_count": 14,
     "metadata": {},
     "output_type": "execute_result"
    }
   ],
   "source": [
    "data"
   ]
  },
  {
   "cell_type": "markdown",
   "id": "9dabe138",
   "metadata": {},
   "source": [
    "# Converting numeric data to strings"
   ]
  },
  {
   "cell_type": "code",
   "execution_count": 15,
   "id": "c834a374",
   "metadata": {},
   "outputs": [],
   "source": [
    "lab_enc=LabelEncoder()\n",
    "\n",
    "data['Origin']=lab_enc.fit_transform(data['Origin'])\n",
    "origin_dict={}\n",
    "for i,j in enumerate(lab_enc.classes_):\n",
    "    origin_dict[i]=j\n",
    "    \n",
    "data['Destination']=lab_enc.fit_transform(data['Origin'])\n",
    "\n",
    "data['Vehicle Type']=lab_enc.fit_transform(data['Vehicle Type'])\n",
    "veh_dict={}\n",
    "for i,j in enumerate(lab_enc.classes_):\n",
    "    veh_dict[i]=j\n",
    "    \n",
    "data['Weather Conditions']=lab_enc.fit_transform(data['Weather Conditions'])\n",
    "weather_dict={}\n",
    "for i,j in enumerate(lab_enc.classes_):\n",
    "    weather_dict[i]=j\n",
    "    \n",
    "data['Traffic Conditions']=lab_enc.fit_transform(data['Traffic Conditions'])\n",
    "traffic_dict={}\n",
    "for i,j in enumerate(lab_enc.classes_):\n",
    "    traffic_dict[i]=j\n",
    "    \n",
    "data['Delayed']=lab_enc.fit_transform(data['Delayed'])\n",
    "delayed_dict={}\n",
    "for i,j in enumerate(lab_enc.classes_):\n",
    "    delayed_dict[i]=j"
   ]
  },
  {
   "cell_type": "code",
   "execution_count": 16,
   "id": "bf96130e",
   "metadata": {},
   "outputs": [
    {
     "data": {
      "text/html": [
       "<div>\n",
       "<style scoped>\n",
       "    .dataframe tbody tr th:only-of-type {\n",
       "        vertical-align: middle;\n",
       "    }\n",
       "\n",
       "    .dataframe tbody tr th {\n",
       "        vertical-align: top;\n",
       "    }\n",
       "\n",
       "    .dataframe thead th {\n",
       "        text-align: right;\n",
       "    }\n",
       "</style>\n",
       "<table border=\"1\" class=\"dataframe\">\n",
       "  <thead>\n",
       "    <tr style=\"text-align: right;\">\n",
       "      <th></th>\n",
       "      <th>Origin</th>\n",
       "      <th>Destination</th>\n",
       "      <th>Vehicle Type</th>\n",
       "      <th>Distance (km)</th>\n",
       "      <th>Weather Conditions</th>\n",
       "      <th>Traffic Conditions</th>\n",
       "      <th>Delayed</th>\n",
       "    </tr>\n",
       "  </thead>\n",
       "  <tbody>\n",
       "    <tr>\n",
       "      <th>0</th>\n",
       "      <td>5</td>\n",
       "      <td>5</td>\n",
       "      <td>2</td>\n",
       "      <td>1603</td>\n",
       "      <td>2</td>\n",
       "      <td>1</td>\n",
       "      <td>1</td>\n",
       "    </tr>\n",
       "    <tr>\n",
       "      <th>1</th>\n",
       "      <td>1</td>\n",
       "      <td>1</td>\n",
       "      <td>2</td>\n",
       "      <td>1237</td>\n",
       "      <td>3</td>\n",
       "      <td>2</td>\n",
       "      <td>1</td>\n",
       "    </tr>\n",
       "    <tr>\n",
       "      <th>2</th>\n",
       "      <td>8</td>\n",
       "      <td>8</td>\n",
       "      <td>3</td>\n",
       "      <td>1863</td>\n",
       "      <td>0</td>\n",
       "      <td>1</td>\n",
       "      <td>0</td>\n",
       "    </tr>\n",
       "    <tr>\n",
       "      <th>3</th>\n",
       "      <td>4</td>\n",
       "      <td>4</td>\n",
       "      <td>0</td>\n",
       "      <td>1374</td>\n",
       "      <td>0</td>\n",
       "      <td>1</td>\n",
       "      <td>0</td>\n",
       "    </tr>\n",
       "    <tr>\n",
       "      <th>4</th>\n",
       "      <td>2</td>\n",
       "      <td>2</td>\n",
       "      <td>0</td>\n",
       "      <td>676</td>\n",
       "      <td>0</td>\n",
       "      <td>0</td>\n",
       "      <td>1</td>\n",
       "    </tr>\n",
       "    <tr>\n",
       "      <th>...</th>\n",
       "      <td>...</td>\n",
       "      <td>...</td>\n",
       "      <td>...</td>\n",
       "      <td>...</td>\n",
       "      <td>...</td>\n",
       "      <td>...</td>\n",
       "      <td>...</td>\n",
       "    </tr>\n",
       "    <tr>\n",
       "      <th>19995</th>\n",
       "      <td>2</td>\n",
       "      <td>2</td>\n",
       "      <td>3</td>\n",
       "      <td>564</td>\n",
       "      <td>1</td>\n",
       "      <td>2</td>\n",
       "      <td>1</td>\n",
       "    </tr>\n",
       "    <tr>\n",
       "      <th>19996</th>\n",
       "      <td>4</td>\n",
       "      <td>4</td>\n",
       "      <td>3</td>\n",
       "      <td>305</td>\n",
       "      <td>3</td>\n",
       "      <td>2</td>\n",
       "      <td>1</td>\n",
       "    </tr>\n",
       "    <tr>\n",
       "      <th>19997</th>\n",
       "      <td>4</td>\n",
       "      <td>4</td>\n",
       "      <td>2</td>\n",
       "      <td>1028</td>\n",
       "      <td>2</td>\n",
       "      <td>2</td>\n",
       "      <td>1</td>\n",
       "    </tr>\n",
       "    <tr>\n",
       "      <th>19998</th>\n",
       "      <td>0</td>\n",
       "      <td>0</td>\n",
       "      <td>1</td>\n",
       "      <td>905</td>\n",
       "      <td>1</td>\n",
       "      <td>2</td>\n",
       "      <td>1</td>\n",
       "    </tr>\n",
       "    <tr>\n",
       "      <th>19999</th>\n",
       "      <td>5</td>\n",
       "      <td>5</td>\n",
       "      <td>1</td>\n",
       "      <td>584</td>\n",
       "      <td>0</td>\n",
       "      <td>1</td>\n",
       "      <td>0</td>\n",
       "    </tr>\n",
       "  </tbody>\n",
       "</table>\n",
       "<p>19403 rows × 7 columns</p>\n",
       "</div>"
      ],
      "text/plain": [
       "       Origin  Destination  Vehicle Type  Distance (km)  Weather Conditions  \\\n",
       "0           5            5             2           1603                   2   \n",
       "1           1            1             2           1237                   3   \n",
       "2           8            8             3           1863                   0   \n",
       "3           4            4             0           1374                   0   \n",
       "4           2            2             0            676                   0   \n",
       "...       ...          ...           ...            ...                 ...   \n",
       "19995       2            2             3            564                   1   \n",
       "19996       4            4             3            305                   3   \n",
       "19997       4            4             2           1028                   2   \n",
       "19998       0            0             1            905                   1   \n",
       "19999       5            5             1            584                   0   \n",
       "\n",
       "       Traffic Conditions  Delayed  \n",
       "0                       1        1  \n",
       "1                       2        1  \n",
       "2                       1        0  \n",
       "3                       1        0  \n",
       "4                       0        1  \n",
       "...                   ...      ...  \n",
       "19995                   2        1  \n",
       "19996                   2        1  \n",
       "19997                   2        1  \n",
       "19998                   2        1  \n",
       "19999                   1        0  \n",
       "\n",
       "[19403 rows x 7 columns]"
      ]
     },
     "execution_count": 16,
     "metadata": {},
     "output_type": "execute_result"
    }
   ],
   "source": [
    "data"
   ]
  },
  {
   "cell_type": "markdown",
   "id": "49844ac5",
   "metadata": {},
   "source": [
    "# Dataset Split"
   ]
  },
  {
   "cell_type": "code",
   "execution_count": 17,
   "id": "60d78cee",
   "metadata": {},
   "outputs": [],
   "source": [
    "y=data['Delayed']\n",
    "data.drop(['Delayed'],inplace=True,axis=1)"
   ]
  },
  {
   "cell_type": "code",
   "execution_count": 18,
   "id": "a40541e9",
   "metadata": {},
   "outputs": [],
   "source": [
    "# data splitting\n",
    "split=0.80\n",
    "train_x=data[:(int)(split*data.shape[0])]\n",
    "test_x=data[(int)(split*data.shape[0]):]\n",
    "train_y=y[:(int)(split*y.shape[0])]\n",
    "test_y=y[(int)(split*y.shape[0]):]"
   ]
  },
  {
   "cell_type": "code",
   "execution_count": 19,
   "id": "488c6493",
   "metadata": {},
   "outputs": [
    {
     "name": "stdout",
     "output_type": "stream",
     "text": [
      "(15522, 6) (15522,) (3881, 6) (3881,)\n"
     ]
    }
   ],
   "source": [
    "print(train_x.shape,train_y.shape,test_x.shape,test_y.shape)"
   ]
  },
  {
   "cell_type": "markdown",
   "id": "c7fdad2e",
   "metadata": {},
   "source": [
    "# Model"
   ]
  },
  {
   "cell_type": "code",
   "execution_count": 20,
   "id": "ac2696c6",
   "metadata": {},
   "outputs": [
    {
     "name": "stdout",
     "output_type": "stream",
     "text": [
      "Accuracy: 0.9188353517134759\n",
      "\n",
      "Classification Report:\n",
      "              precision    recall  f1-score   support\n",
      "\n",
      "           0       0.77      1.00      0.87      1059\n",
      "           1       1.00      0.89      0.94      2822\n",
      "\n",
      "    accuracy                           0.92      3881\n",
      "   macro avg       0.89      0.94      0.91      3881\n",
      "weighted avg       0.94      0.92      0.92      3881\n",
      "\n"
     ]
    }
   ],
   "source": [
    "# Decision Tree\n",
    "\n",
    "clf = DecisionTreeClassifier(max_depth=5, random_state=42)\n",
    "\n",
    "clf.fit(train_x, train_y)\n",
    "\n",
    "y_pred = clf.predict(test_x)\n",
    "\n",
    "accuracy = accuracy_score(test_y, y_pred)\n",
    "print(f\"Accuracy: {accuracy}\")\n",
    "\n",
    "print(\"\\nClassification Report:\")\n",
    "print(classification_report(test_y, y_pred))"
   ]
  },
  {
   "cell_type": "code",
   "execution_count": 21,
   "id": "e7a42e7e",
   "metadata": {},
   "outputs": [
    {
     "name": "stdout",
     "output_type": "stream",
     "text": [
      "Accuracy: 0.6804947178562226\n",
      "\n",
      "Classification Report:\n",
      "              precision    recall  f1-score   support\n",
      "\n",
      "           0       0.38      0.28      0.32      1059\n",
      "           1       0.75      0.83      0.79      2822\n",
      "\n",
      "    accuracy                           0.68      3881\n",
      "   macro avg       0.57      0.55      0.56      3881\n",
      "weighted avg       0.65      0.68      0.66      3881\n",
      "\n"
     ]
    }
   ],
   "source": [
    "# knn\n",
    "\n",
    "knn_model = KNeighborsClassifier(n_neighbors=5)\n",
    "\n",
    "knn_model.fit(train_x, train_y)\n",
    "\n",
    "y_pred = knn_model.predict(test_x)\n",
    "\n",
    "accuracy = accuracy_score(test_y, y_pred)\n",
    "print(f\"Accuracy: {accuracy}\")\n",
    "\n",
    "print(\"\\nClassification Report:\")\n",
    "print(classification_report(test_y, y_pred))"
   ]
  },
  {
   "cell_type": "code",
   "execution_count": 22,
   "id": "736023b1",
   "metadata": {},
   "outputs": [],
   "source": [
    "# Since Output Of KNN Is not Good So We Use Decision Tree Model\n",
    "\n",
    "import pickle\n",
    "\n",
    "with open('Shipments.pkl', 'wb') as file:\n",
    "    pickle.dump(clf, file)"
   ]
  },
  {
   "cell_type": "markdown",
   "id": "5bfecc18",
   "metadata": {},
   "source": [
    "# Values Of Encodings"
   ]
  },
  {
   "cell_type": "code",
   "execution_count": 23,
   "id": "6a251fa1",
   "metadata": {},
   "outputs": [
    {
     "data": {
      "text/plain": [
       "{0: 'Ahmedabad',\n",
       " 1: 'Bangalore',\n",
       " 2: 'Chennai',\n",
       " 3: 'Delhi',\n",
       " 4: 'Hyderabad',\n",
       " 5: 'Jaipur',\n",
       " 6: 'Kolkata',\n",
       " 7: 'Lucknow',\n",
       " 8: 'Mumbai',\n",
       " 9: 'Pune'}"
      ]
     },
     "execution_count": 23,
     "metadata": {},
     "output_type": "execute_result"
    }
   ],
   "source": [
    "origin_dict"
   ]
  },
  {
   "cell_type": "code",
   "execution_count": 24,
   "id": "ff3685bc",
   "metadata": {},
   "outputs": [
    {
     "data": {
      "text/plain": [
       "{0: 'Container', 1: 'Lorry', 2: 'Trailer', 3: 'Truck'}"
      ]
     },
     "execution_count": 24,
     "metadata": {},
     "output_type": "execute_result"
    }
   ],
   "source": [
    "veh_dict"
   ]
  },
  {
   "cell_type": "code",
   "execution_count": 25,
   "id": "a4c49c1d",
   "metadata": {},
   "outputs": [
    {
     "data": {
      "text/plain": [
       "{0: 'Clear', 1: 'Fog', 2: 'Rain', 3: 'Storm'}"
      ]
     },
     "execution_count": 25,
     "metadata": {},
     "output_type": "execute_result"
    }
   ],
   "source": [
    "weather_dict"
   ]
  },
  {
   "cell_type": "code",
   "execution_count": 26,
   "id": "2ccf0c17",
   "metadata": {},
   "outputs": [
    {
     "data": {
      "text/plain": [
       "{0: 'Heavy', 1: 'Light', 2: 'Moderate'}"
      ]
     },
     "execution_count": 26,
     "metadata": {},
     "output_type": "execute_result"
    }
   ],
   "source": [
    "traffic_dict"
   ]
  },
  {
   "cell_type": "code",
   "execution_count": 27,
   "id": "0924adf1",
   "metadata": {},
   "outputs": [
    {
     "data": {
      "text/plain": [
       "{0: 'No', 1: 'Yes'}"
      ]
     },
     "execution_count": 27,
     "metadata": {},
     "output_type": "execute_result"
    }
   ],
   "source": [
    "delayed_dict"
   ]
  },
  {
   "cell_type": "code",
   "execution_count": null,
   "id": "dc19ad74",
   "metadata": {},
   "outputs": [],
   "source": []
  }
 ],
 "metadata": {
  "kernelspec": {
   "display_name": "Python 3 (ipykernel)",
   "language": "python",
   "name": "python3"
  },
  "language_info": {
   "codemirror_mode": {
    "name": "ipython",
    "version": 3
   },
   "file_extension": ".py",
   "mimetype": "text/x-python",
   "name": "python",
   "nbconvert_exporter": "python",
   "pygments_lexer": "ipython3",
   "version": "3.11.5"
  }
 },
 "nbformat": 4,
 "nbformat_minor": 5
}
